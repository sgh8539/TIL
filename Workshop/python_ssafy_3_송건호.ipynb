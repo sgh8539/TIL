{
 "cells": [
  {
   "cell_type": "markdown",
   "metadata": {},
   "source": [
    "# 03_Homework"
   ]
  },
  {
   "cell_type": "markdown",
   "metadata": {},
   "source": [
    "1-1 X\n",
    "1-2 X\n",
    "1-3 O\n",
    "1-4 O"
   ]
  },
  {
   "cell_type": "markdown",
   "metadata": {},
   "source": [
    "2-1 ls 현재 디렉토리에 있는 디렉토리와 파일들을 보여준다. \n",
    "2-2 cd 디렉토리를 변경한다.\n",
    "2-3 mkdir 새로운 디렉토리(폴더)를 만든다.\n",
    "2-4 touch 새로운 파일을 만든다.\n"
   ]
  },
  {
   "cell_type": "markdown",
   "metadata": {},
   "source": [
    "3 디렉토리나 명령어를 자동완성을 해준다. \n",
    " 디렉토리의 경우 현재 존재하는 디렉토리 리스트 중에서 현재 입력한 문자에 가장 가까운 디렉토리를 자동완성 해 준다.\n",
    " 명령어의 경우 마찬가지로 가능한 명령어를 자동완성해준다."
   ]
  },
  {
   "cell_type": "markdown",
   "metadata": {},
   "source": [
    "# 04_Workshop"
   ]
  },
  {
   "cell_type": "code",
   "execution_count": 137,
   "metadata": {
    "scrolled": false
   },
   "outputs": [
    {
     "name": "stdout",
     "output_type": "stream",
     "text": [
      "*****\n",
      "*****\n",
      "*****\n",
      "*****\n",
      "*****\n",
      "*****\n",
      "*****\n",
      "*****\n",
      "*****\n",
      "\n"
     ]
    }
   ],
   "source": [
    "# 반복문을 사용하지 않고 *모양 가로 N 세로 길이 M직사각형 출력 \n",
    "n = 5\n",
    "m = 9\n",
    "line ='*'*n\n",
    "print(f'{line}\\n'*m)\n",
    "\n"
   ]
  },
  {
   "cell_type": "code",
   "execution_count": 132,
   "metadata": {},
   "outputs": [
    {
     "name": "stdout",
     "output_type": "stream",
     "text": [
      "87.75\n",
      "87.75\n"
     ]
    }
   ],
   "source": [
    "#평균\n",
    "student = {'python':80, 'algorithm':99, 'django': 89, 'flask': 83}\n",
    "a = []\n",
    "for key in student:\n",
    "    a.append(student[key])\n",
    "average = sum(a)/len(a)\n",
    "print(average)\n",
    "    \n",
    "k = sum(student.values())/len(student)    \n",
    "print(k)"
   ]
  },
  {
   "cell_type": "code",
   "execution_count": 119,
   "metadata": {},
   "outputs": [
    {
     "name": "stdout",
     "output_type": "stream",
     "text": [
      "3\n",
      "3\n",
      "3\n",
      "3\n"
     ]
    }
   ],
   "source": [
    "# for사용 각 혈핵형 인원 구하기\n",
    "blood_types = ['A', 'B', 'A', 'O', 'AB', 'AB', 'O', 'A', 'B', 'O', 'B', 'AB']\n",
    "A = 0\n",
    "B = 0\n",
    "AB = 0\n",
    "O = 0\n",
    "    \n",
    "for i in blood_types:\n",
    "    if i == 'A':\n",
    "         A += 1\n",
    "    if i == 'B':\n",
    "         B += 1\n",
    "    if i == 'AB':\n",
    "         AB += 1\n",
    "    if i == 'O':\n",
    "         O += 1        \n",
    "\n",
    "print(A)\n",
    "print(B)\n",
    "print(AB)\n",
    "print(O)"
   ]
  },
  {
   "cell_type": "markdown",
   "metadata": {},
   "source": [
    "# 04_Homework"
   ]
  },
  {
   "cell_type": "code",
   "execution_count": 121,
   "metadata": {},
   "outputs": [
    {
     "name": "stdout",
     "output_type": "stream",
     "text": [
      "['False', 'None', 'True', 'and', 'as', 'assert', 'break', 'class', 'continue', 'def', 'del', 'elif', 'else', 'except', 'finally', 'for', 'from', 'global', 'if', 'import', 'in', 'is', 'lambda', 'nonlocal', 'not', 'or', 'pass', 'raise', 'return', 'try', 'while', 'with', 'yield']\n"
     ]
    }
   ],
   "source": [
    "#1번 문제\n",
    "#첫 글자에 숫자가 올 수 없다.\n",
    "import keyword\n",
    "print(keyword.kwlist)"
   ]
  },
  {
   "cell_type": "code",
   "execution_count": 130,
   "metadata": {},
   "outputs": [
    {
     "data": {
      "text/plain": [
       "True"
      ]
     },
     "execution_count": 130,
     "metadata": {},
     "output_type": "execute_result"
    }
   ],
   "source": [
    "#2번문제 \n",
    "import sys\n",
    "a = 0.1*3\n",
    "b = 0.3\n",
    "a-b\n",
    "abs(a-b)<= sys.float_info.epsilon#인식할수 있는 작은값"
   ]
  },
  {
   "cell_type": "code",
   "execution_count": null,
   "metadata": {},
   "outputs": [],
   "source": [
    "#3번 문제 1.줄바꿈 |2.탭 |3.\\\n",
    "print('\\n')\n",
    "print('\\t')\n",
    "print('\\\\')"
   ]
  },
  {
   "cell_type": "code",
   "execution_count": 133,
   "metadata": {},
   "outputs": [
    {
     "name": "stdout",
     "output_type": "stream",
     "text": [
      "\"안녕, 철수야\"\n"
     ]
    }
   ],
   "source": [
    "#4번 문제\n",
    "name = '철수'\n",
    "print(f\"\\\"안녕, {name}야\\\"\")"
   ]
  },
  {
   "cell_type": "code",
   "execution_count": 128,
   "metadata": {},
   "outputs": [
    {
     "data": {
      "text/plain": [
       "True"
      ]
     },
     "execution_count": 128,
     "metadata": {},
     "output_type": "execute_result"
    }
   ],
   "source": [
    "#5번 문제\n",
    "str(1)\n",
    "int(5)\n",
    "int('30')\n",
    "bool('50')\n",
    "#int('3.0')\n",
    "\n"
   ]
  }
 ],
 "metadata": {
  "kernelspec": {
   "display_name": "Python 3",
   "language": "python",
   "name": "python3"
  },
  "language_info": {
   "codemirror_mode": {
    "name": "ipython",
    "version": 3
   },
   "file_extension": ".py",
   "mimetype": "text/x-python",
   "name": "python",
   "nbconvert_exporter": "python",
   "pygments_lexer": "ipython3",
   "version": "3.6.7"
  }
 },
 "nbformat": 4,
 "nbformat_minor": 2
}
