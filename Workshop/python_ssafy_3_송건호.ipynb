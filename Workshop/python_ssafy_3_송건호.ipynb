{
 "cells": [
  {
   "cell_type": "markdown",
   "metadata": {},
   "source": [
    "# 03_Homework"
   ]
  },
  {
   "cell_type": "markdown",
   "metadata": {},
   "source": [
    "1-1 X\n",
    "1-2 X\n",
    "1-3 O\n",
    "1-4 O"
   ]
  },
  {
   "cell_type": "markdown",
   "metadata": {},
   "source": [
    "2-1 ls 현재 디렉토리에 있는 디렉토리와 파일들을 보여준다. \n",
    "2-2 cd 디렉토리를 변경한다.\n",
    "2-3 mkdir 새로운 디렉토리(폴더)를 만든다.\n",
    "2-4 touch 새로운 파일을 만든다.\n"
   ]
  },
  {
   "cell_type": "markdown",
   "metadata": {},
   "source": [
    "3 디렉토리나 명령어를 자동완성을 해준다. \n",
    " 디렉토리의 경우 현재 존재하는 디렉토리 리스트 중에서 현재 입력한 문자에 가장 가까운 디렉토리를 자동완성 해 준다.\n",
    " 명령어의 경우 마찬가지로 가능한 명령어를 자동완성해준다."
   ]
  },
  {
   "cell_type": "markdown",
   "metadata": {},
   "source": [
    "# 04_Workshop"
   ]
  },
  {
   "cell_type": "code",
   "execution_count": 137,
   "metadata": {
    "scrolled": false
   },
   "outputs": [
    {
     "name": "stdout",
     "output_type": "stream",
     "text": [
      "*****\n",
      "*****\n",
      "*****\n",
      "*****\n",
      "*****\n",
      "*****\n",
      "*****\n",
      "*****\n",
      "*****\n",
      "\n"
     ]
    }
   ],
   "source": [
    "# 반복문을 사용하지 않고 *모양 가로 N 세로 길이 M직사각형 출력 \n",
    "n = 5\n",
    "m = 9\n",
    "line ='*'*n\n",
    "print(f'{line}\\n'*m)\n",
    "\n"
   ]
  },
  {
   "cell_type": "code",
   "execution_count": 132,
   "metadata": {},
   "outputs": [
    {
     "name": "stdout",
     "output_type": "stream",
     "text": [
      "87.75\n",
      "87.75\n"
     ]
    }
   ],
   "source": [
    "#평균\n",
    "student = {'python':80, 'algorithm':99, 'django': 89, 'flask': 83}\n",
    "a = []\n",
    "for key in student:\n",
    "    a.append(student[key])\n",
    "average = sum(a)/len(a)\n",
    "print(average)\n",
    "    \n",
    "k = sum(student.values())/len(student)    \n",
    "print(k)"
   ]
  },
  {
   "cell_type": "code",
   "execution_count": 119,
   "metadata": {},
   "outputs": [
    {
     "name": "stdout",
     "output_type": "stream",
     "text": [
      "3\n",
      "3\n",
      "3\n",
      "3\n"
     ]
    }
   ],
   "source": [
    "# for사용 각 혈핵형 인원 구하기\n",
    "blood_types = ['A', 'B', 'A', 'O', 'AB', 'AB', 'O', 'A', 'B', 'O', 'B', 'AB']\n",
    "A = 0\n",
    "B = 0\n",
    "AB = 0\n",
    "O = 0\n",
    "    \n",
    "for i in blood_types:\n",
    "    if i == 'A':\n",
    "         A += 1\n",
    "    if i == 'B':\n",
    "         B += 1\n",
    "    if i == 'AB':\n",
    "         AB += 1\n",
    "    if i == 'O':\n",
    "         O += 1        \n",
    "\n",
    "print(A)\n",
    "print(B)\n",
    "print(AB)\n",
    "print(O)"
   ]
  },
  {
   "cell_type": "markdown",
   "metadata": {},
   "source": [
    "# 04_Homework"
   ]
  },
  {
   "cell_type": "code",
   "execution_count": 121,
   "metadata": {},
   "outputs": [
    {
     "name": "stdout",
     "output_type": "stream",
     "text": [
      "['False', 'None', 'True', 'and', 'as', 'assert', 'break', 'class', 'continue', 'def', 'del', 'elif', 'else', 'except', 'finally', 'for', 'from', 'global', 'if', 'import', 'in', 'is', 'lambda', 'nonlocal', 'not', 'or', 'pass', 'raise', 'return', 'try', 'while', 'with', 'yield']\n"
     ]
    }
   ],
   "source": [
    "#1번 문제\n",
    "#첫 글자에 숫자가 올 수 없다.\n",
    "\n",
    "#정답\n",
    "import keyword\n",
    "print(keyword.kwlist)"
   ]
  },
  {
   "cell_type": "code",
   "execution_count": 130,
   "metadata": {},
   "outputs": [
    {
     "data": {
      "text/plain": [
       "True"
      ]
     },
     "execution_count": 130,
     "metadata": {},
     "output_type": "execute_result"
    }
   ],
   "source": [
    "#2번문제 \n",
    "\n",
    "# 정답\n",
    "import sys\n",
    "a = 0.1*3\n",
    "b = 0.3\n",
    "a-b\n",
    "abs(a-b)<= sys.float_info.epsilon#인식할수 있는 작은값"
   ]
  },
  {
   "cell_type": "code",
   "execution_count": null,
   "metadata": {},
   "outputs": [],
   "source": [
    "#3번 문제 1.줄바꿈 |2.탭 |3.\\ \n",
    "#정답\n",
    "print('\\n')\n",
    "print('\\t')\n",
    "print('\\\\')"
   ]
  },
  {
   "cell_type": "code",
   "execution_count": 133,
   "metadata": {},
   "outputs": [
    {
     "name": "stdout",
     "output_type": "stream",
     "text": [
      "\"안녕, 철수야\"\n"
     ]
    }
   ],
   "source": [
    "#4번 문제 \n",
    "\n",
    "#정답\n",
    "name = '철수'\n",
    "print(f\"\\\"안녕, {name}야\\\"\")"
   ]
  },
  {
   "cell_type": "code",
   "execution_count": 27,
   "metadata": {},
   "outputs": [
    {
     "data": {
      "text/plain": [
       "True"
      ]
     },
     "execution_count": 27,
     "metadata": {},
     "output_type": "execute_result"
    }
   ],
   "source": [
    "#5번 문제 \n",
    "str(1)\n",
    "int(5)\n",
    "int('30')\n",
    "bool('50')\n",
    "#int('3.0')\n",
    "#정답: int('3.0')\n",
    "\n"
   ]
  },
  {
   "cell_type": "markdown",
   "metadata": {},
   "source": [
    "## 05_Workshop"
   ]
  },
  {
   "cell_type": "code",
   "execution_count": 16,
   "metadata": {},
   "outputs": [
    {
     "name": "stdout",
     "output_type": "stream",
     "text": [
      "단어를 입력하세요:A santa at NASA\n",
      "True\n"
     ]
    }
   ],
   "source": [
    "#따라서, 단어를 입력받아 Palindrome을 검증하고 True나 False를 리턴하는 함수 palindrome(word)를 만들어보세요.\n",
    "#정답\n",
    "\n",
    "word = input('단어를 입력하세요:')\n",
    "\n",
    "def word_palindrome(word):\n",
    "    word = word.lower()\n",
    "    word = word.replace(' ','')\n",
    "    \n",
    "    for j ,i in enumerate(word):\n",
    "        if i != word[-j-1]:\n",
    "            break\n",
    "    else:\n",
    "        return True\n",
    "    return False\n",
    "    \n",
    "\n",
    "print(word_palindrome(word))\n"
   ]
  },
  {
   "cell_type": "markdown",
   "metadata": {},
   "source": [
    "## 05_Homework"
   ]
  },
  {
   "cell_type": "code",
   "execution_count": 10,
   "metadata": {},
   "outputs": [
    {
     "name": "stdout",
     "output_type": "stream",
     "text": [
      "1\n",
      "2\n",
      "3\n",
      "4\n",
      "5\n",
      "6\n",
      "7\n"
     ]
    }
   ],
   "source": [
    "#1List는 for 문을 실행하면 모든 요소를 순차적으로 돌면서 반복문을 수행합니다. \n",
    "#임의의 리스트 my_list의 값을 하나씩 출력하는 코드를 아래에 작성하시오.\n",
    "#정답\n",
    "list_ex = [1,2,3,4,5,6,7]\n",
    "for item in list_ex:\n",
    "    print (item)"
   ]
  },
  {
   "cell_type": "code",
   "execution_count": 12,
   "metadata": {},
   "outputs": [
    {
     "name": "stdout",
     "output_type": "stream",
     "text": [
      "0 1\n",
      "1 2\n",
      "2 3\n",
      "3 4\n",
      "4 5\n",
      "5 6\n",
      "6 7\n"
     ]
    }
   ],
   "source": [
    "#2.위에 작성한 코드를 인덱스(index) 값과 함께 출력하는 코드로 변경하시오.\n",
    "#정답\n",
    "list_ex = [1,2,3,4,5,6,7]\n",
    "for index, item in enumerate(list_ex):\n",
    "    print (index, item)"
   ]
  },
  {
   "cell_type": "code",
   "execution_count": null,
   "metadata": {},
   "outputs": [],
   "source": [
    "# 3.딕셔너리는 key, value로 구성되어 있습니다. 따라서, 딕셔너리 my_dict 각각의 상 황에 따라 반복문을 수행할 수 있도록 빈칸을 채우시오\n",
    "\n",
    "# 정답\n",
    "# >key : for key in _my_dict.keys()_: \n",
    "# >value : for value in _my_dict.values()_: \n",
    "# >key와 value : for key, value in _my_dict.items()_:\n",
    "    "
   ]
  },
  {
   "cell_type": "code",
   "execution_count": 19,
   "metadata": {},
   "outputs": [
    {
     "name": "stdout",
     "output_type": "stream",
     "text": [
      "a\n",
      "b\n",
      "a b\n"
     ]
    }
   ],
   "source": [
    "a={'a':'b'}\n",
    "for i in a.keys():\n",
    "    print(i)\n",
    "for i in a.values():\n",
    "    print(i)\n",
    "for i,j in a.items():\n",
    "    print(i,j)"
   ]
  },
  {
   "cell_type": "code",
   "execution_count": 1,
   "metadata": {},
   "outputs": [
    {
     "name": "stdout",
     "output_type": "stream",
     "text": [
      "6\n"
     ]
    }
   ],
   "source": [
    "#4.result에 저장된 값은? \n",
    "#정답 6이 출력된다.\n",
    "def my_func(a, b): \n",
    "    c = a + b \n",
    "    print(c) \n",
    "\n",
    "result = my_func(1, 5)"
   ]
  },
  {
   "cell_type": "markdown",
   "metadata": {},
   "source": [
    "## 06_Workshop"
   ]
  },
  {
   "cell_type": "code",
   "execution_count": 23,
   "metadata": {},
   "outputs": [
    {
     "data": {
      "text/plain": [
       "31.6386"
      ]
     },
     "execution_count": 23,
     "metadata": {},
     "output_type": "execute_result"
    }
   ],
   "source": [
    "def root_2(n, b=0, a=1, count=100):\n",
    "    if b**2 <= n <=a**2:\n",
    "        if count==0:\n",
    "            return b\n",
    "        elif n <= ((a+b)/2)**2:\n",
    "            return root_2(n,b,(a+b)/2,count-1)\n",
    "        elif n >= ((a+b)/2)**2:\n",
    "            return root_2(n,(a+b)/2,a,count-1)\n",
    "    else:\n",
    "        b+=1\n",
    "        a+=1\n",
    "        return round(root_2(n,b,a),4)\n",
    "root_2(1001)\n"
   ]
  },
  {
   "cell_type": "markdown",
   "metadata": {},
   "source": [
    "## 06_Homework\n"
   ]
  },
  {
   "cell_type": "markdown",
   "metadata": {},
   "source": [
    "1. 우리가 이제까지 활용했던 print는 내장 함수(built-in function)입니다. 배웠던 내장 함수 중 5개만 나열해보세요.\n",
    "\n",
    "2. 다음 중 틀린 것은?\n",
    "(1) 함수는 오직 하나의 객체만 반환할 수 있어서, return a, b 처럼 쓸 수 없다. (2) 함수에서 return을 작성하지 않으면 None 값을 반환한다. (3) 함수의 인자(parameter)는 함수 선언시 설정한 값이며, 인수(argument)는 함수 호출시 넘겨주는 값이다. (4) 가변 인자를 설정할 때는 인자 앞에서 *을 붙이고, 이때는 함수 내에서 tuple로 처리된다. (5) 파이썬 활용되는 ‘스코프(scope)’ 룰에 따르면 변수에서 값을 Local scope -> Global scope -> Built-in scope 순으로 찾는다.\n",
    "\n",
    "3. 함수의 인자 기본 값을 설정을 활용하여 곱셈의 결과를 반환하는 my_mul을 만들어주세요. 예시 호출1) my_mul(6) 예시 결과1) 6 예시 호출2) my_mul(3, 5) 예시 결과2) 15"
   ]
  },
  {
   "cell_type": "code",
   "execution_count": 8,
   "metadata": {},
   "outputs": [
    {
     "data": {
      "text/plain": [
       "15"
      ]
     },
     "execution_count": 8,
     "metadata": {},
     "output_type": "execute_result"
    }
   ],
   "source": [
    "#1번문제\n",
    "# abs(-1)\n",
    "# round(1.222,3)\n",
    "# sorted([1,2,3,4,5])\n",
    "# sum([1,2,3])\n",
    "# type(---)\n",
    "\n",
    "#2번문제\n",
    "#정답 : (5)\n",
    "\n",
    "#3번문제\n",
    "# \n",
    "def my_mul(*a):\n",
    "    b = 1 \n",
    "    for i in a:\n",
    "        b = b*i\n",
    "    return b\n",
    "my_mul(3,5)"
   ]
  }
 ],
 "metadata": {
  "kernelspec": {
   "display_name": "Python 3",
   "language": "python",
   "name": "python3"
  },
  "language_info": {
   "codemirror_mode": {
    "name": "ipython",
    "version": 3
   },
   "file_extension": ".py",
   "mimetype": "text/x-python",
   "name": "python",
   "nbconvert_exporter": "python",
   "pygments_lexer": "ipython3",
   "version": "3.6.7"
  }
 },
 "nbformat": 4,
 "nbformat_minor": 2
}
