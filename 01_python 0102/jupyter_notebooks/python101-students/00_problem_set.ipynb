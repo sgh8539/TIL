{
 "cells": [
  {
   "cell_type": "markdown",
   "metadata": {},
   "source": [
    "# Problem set\n",
    "    "
   ]
  },
  {
   "cell_type": "markdown",
   "metadata": {},
   "source": [
    "190108"
   ]
  },
  {
   "cell_type": "markdown",
   "metadata": {},
   "source": [
    "## 1. 이상한 덧셈\n",
    "> 숫자로 구성된 리스트에서 양의 정수의 합을 구하는 함수, `positve_sum`을 만들어 보아요\n",
    "\n",
    "예시) \n",
    "```python \n",
    "positve_sum([1,-10,2])"
   ]
  },
  {
   "cell_type": "code",
   "execution_count": 91,
   "metadata": {},
   "outputs": [
    {
     "data": {
      "text/plain": [
       "6"
      ]
     },
     "execution_count": 91,
     "metadata": {},
     "output_type": "execute_result"
    }
   ],
   "source": [
    "def positve_sum(a):\n",
    "    sum = 0\n",
    "    for i in a:\n",
    "        if i>0:\n",
    "            sum+=i\n",
    "    return sum\n",
    "\n",
    "def pos_sum(numbers):\n",
    "    return sum(x for x in numbers if x>0)\n",
    "\n",
    "positve_sum([1,2,3])\n",
    "pos_sum([1,2,3])"
   ]
  },
  {
   "cell_type": "code",
   "execution_count": null,
   "metadata": {},
   "outputs": [],
   "source": []
  },
  {
   "cell_type": "markdown",
   "metadata": {},
   "source": [
    "### 2. 문자열 탐색\n",
    "> 문자열 요소로만 이루어진 리스트를 넣었으 때, 무자열의 길이가 2 이상이고 주어진 문자열의 첫뻔째와 마지막 문자가 같은 문자열의 수를 세는 함수 `start_end`를 작성하시요"
   ]
  },
  {
   "cell_type": "code",
   "execution_count": 5,
   "metadata": {},
   "outputs": [
    {
     "data": {
      "text/plain": [
       "3"
      ]
     },
     "execution_count": 5,
     "metadata": {},
     "output_type": "execute_result"
    }
   ],
   "source": [
    "def start_end(a):\n",
    "    k=[]\n",
    "    for i in a:\n",
    "        if len(i)>2 and i[0]==i[-1]:\n",
    "            k.append(i)\n",
    "    return len(k)\n",
    "\n",
    "\n",
    "b=['level','q1q','abasdfa']\n",
    "start_end(b)"
   ]
  },
  {
   "cell_type": "markdown",
   "metadata": {},
   "source": [
    "## 3collatz\n",
    ">Colatz 추측 어떤 자연수n 이던지 다음과 같은 작업을 반복하면 1로 만들 수 있다.\n",
    "\n",
    "1. n이 짝수라면 2로 나눈다.\n",
    "2. n이 홀수라면 3을 곱하고 1을 더한다.\n",
    "3. 결과로 나온 수에 1/2작업을 1이 될때까지 반복하낟.\n"
   ]
  },
  {
   "cell_type": "code",
   "execution_count": 6,
   "metadata": {},
   "outputs": [
    {
     "data": {
      "text/plain": [
       "-1"
      ]
     },
     "execution_count": 6,
     "metadata": {},
     "output_type": "execute_result"
    }
   ],
   "source": [
    "def Collatz(i):\n",
    "    k=[]\n",
    "    s=0\n",
    "    while i!=1 and s<=500:\n",
    "        if i%2==0:\n",
    "            s+=1\n",
    "            i = int(i/2)\n",
    "            k.append(int(i/2))\n",
    "        else :\n",
    "            s+=1\n",
    "            i = i*3+1\n",
    "            k.append(int(i*3+1))\n",
    "    if s>500:\n",
    "        s=-1\n",
    "    \n",
    "    return s\n",
    "\n",
    "Collatz(626331)\n",
    "    "
   ]
  },
  {
   "cell_type": "code",
   "execution_count": 9,
   "metadata": {},
   "outputs": [
    {
     "data": {
      "text/plain": [
       "8"
      ]
     },
     "execution_count": 9,
     "metadata": {},
     "output_type": "execute_result"
    }
   ],
   "source": [
    "def col(num):\n",
    "    for i in range(500):\n",
    "        if num%2:\n",
    "            num = num*3+1\n",
    "        else:\n",
    "            num = num/2\n",
    "# num = num*3 +1 if num%2 else num/2\n",
    "\n",
    "        \n",
    "        if num==1:\n",
    "            return i+1\n",
    "    return -1\n",
    "\n",
    "col(6)"
   ]
  },
  {
   "cell_type": "code",
   "execution_count": null,
   "metadata": {},
   "outputs": [],
   "source": [
    "print(sys.max)"
   ]
  },
  {
   "cell_type": "markdown",
   "metadata": {},
   "source": [
    "### 4솔로 천국\n",
    ">리스트가 주어질때 리스트의 오소 는 에 포함되는 자연수 이다. 리스트가 연속적으로 나타나는 숫자는 하나만 남기고 전부 제거하여 하는 함수 를 작생해 보세요 이때 제거된 후 남은 수들을 반환할 때는 리시트의 요소들의 순서를 유지해야 합니다.\n"
   ]
  },
  {
   "cell_type": "code",
   "execution_count": 38,
   "metadata": {},
   "outputs": [
    {
     "data": {
      "text/plain": [
       "[3, 1, 2]"
      ]
     },
     "execution_count": 38,
     "metadata": {},
     "output_type": "execute_result"
    }
   ],
   "source": [
    "def lonely(a):\n",
    "    k=[]\n",
    "    ind = []\n",
    "    for i in range(0,10):\n",
    "        for index,j in enumerate(a):\n",
    "            if j==i and not j in k:\n",
    "                k+=[j]\n",
    "            elif j==i and j in k:\n",
    "                ind+=[index]\n",
    "                \n",
    "    for index,p in enumerate(sorted(ind)):\n",
    "        del[a[p-index]]\n",
    "        \n",
    "        \n",
    "        \n",
    "                                \n",
    "    return a\n",
    "lonely([3,3,3,3,3,3,1,1,1,3,2,2,2,2])\n",
    "                \n",
    "    "
   ]
  },
  {
   "cell_type": "code",
   "execution_count": 45,
   "metadata": {},
   "outputs": [
    {
     "data": {
      "text/plain": [
       "[3, 1, 2]"
      ]
     },
     "execution_count": 45,
     "metadata": {},
     "output_type": "execute_result"
    }
   ],
   "source": [
    "def lonelyly(numbers):\n",
    "    result =[]\n",
    "    for number in numbers:\n",
    "        if number not in result:\n",
    "            result.append(number)\n",
    "    return result\n",
    "                \n",
    "            \n",
    "lonelyly([3,3,3,3,3,3,1,1,1,3,2,2,2,2])"
   ]
  },
  {
   "cell_type": "markdown",
   "metadata": {},
   "source": [
    "### 5rgb삼각형"
   ]
  },
  {
   "cell_type": "code",
   "execution_count": null,
   "metadata": {},
   "outputs": [],
   "source": [
    "def triange(a):\n",
    "    result=[]\n",
    "    remain=0\n",
    "    if type(a)==str:\n",
    "        a = a.split(' ')\n",
    "    if len(a)==1:\n",
    "        return a\n",
    "    else:    \n",
    "        for i in a:\n",
    "\n",
    "            if remain == 0:\n",
    "                remain = i \n",
    "\n",
    "            elif remain == i:\n",
    "                if i=='R':\n",
    "                    result.append('R')\n",
    "                elif i=='G':\n",
    "                    result.append('G')\n",
    "                else:\n",
    "                    result.append('B')\n",
    "                remain=i\n",
    "\n",
    "            elif remain != i:\n",
    "                if i=='R':\n",
    "                    if remain=='B':\n",
    "                        result.append('G')\n",
    "                    else:\n",
    "                        result.append('B')\n",
    "                elif i=='G':\n",
    "                    if remain=='B':\n",
    "                        result.append('R')\n",
    "                    else:\n",
    "                        result.append('B')\n",
    "                else:\n",
    "                    if remain=='G':\n",
    "                        result.append('R')\n",
    "                    else:\n",
    "                        result.append('G')\n",
    "                remain = i\n",
    "                \n",
    "    \n",
    "    return triange(result)\n",
    "\n",
    "triange('R B')\n",
    "result=[]\n",
    "# remain = 0 \n",
    "# a = 'R R G B R G B B'.split(' ')\n",
    "\n",
    "# def RGBfun(a):\n",
    "#     remain = 0\n",
    "#     result = []\n",
    "#     if len(a)==1:\n",
    "#         return a\n",
    "#     else:\n",
    "#         for i in a:\n",
    "#             if remain == 0:\n",
    "#                 remain = i \n",
    "#             elif remain == i:\n",
    "#                 if i=='R':\n",
    "#                     result.append('R')\n",
    "#                 elif i=='G':\n",
    "#                     result.append('G')\n",
    "#                 else:\n",
    "#                     result.append('B')\n",
    "#                 remain=i\n",
    "#             elif remain != i:\n",
    "#                 if i=='R':\n",
    "#                     if remain=='B':\n",
    "#                         result.append('G')\n",
    "#                     else:\n",
    "#                         result.append('B')\n",
    "#                 elif i=='G':\n",
    "#                     if remain=='B':\n",
    "#                         result.append('R')\n",
    "#                     else:\n",
    "#                         result.append('B')\n",
    "#                 else:\n",
    "#                     if remain=='G':\n",
    "#                         result.append('R')\n",
    "#                     else:\n",
    "#                         result.append('G')\n",
    "#                 remain=i\n",
    "\n",
    "#         return RGBfun(result)\n",
    "    \n",
    "# print(RGBfun(['R','G']))"
   ]
  },
  {
   "cell_type": "code",
   "execution_count": 1,
   "metadata": {},
   "outputs": [
    {
     "name": "stdout",
     "output_type": "stream",
     "text": [
      "['G']\n"
     ]
    }
   ],
   "source": [
    "def RGBfun(a):\n",
    "    k=['R','G','B']\n",
    "    remain = 0\n",
    "    result = []\n",
    "    if type(a)==str:\n",
    "        a = a.split(' ')\n",
    "    if len(a)==1:\n",
    "        return a\n",
    "    else:\n",
    "        for i in a:\n",
    "            if remain == 0:\n",
    "                remain = i \n",
    "            elif remain == i:\n",
    "                result.append(i)\n",
    "                remain=i\n",
    "            elif remain != i:\n",
    "                k.remove(i)\n",
    "                k.remove(remain)\n",
    "                result.append(k[0])\n",
    "                k=['R','G','B']\n",
    "                remain=i\n",
    "\n",
    "        return RGBfun(result)\n",
    "    \n",
    "print(RGBfun('R R G B R G B B'))"
   ]
  },
  {
   "cell_type": "code",
   "execution_count": 6,
   "metadata": {},
   "outputs": [
    {
     "name": "stdout",
     "output_type": "stream",
     "text": [
      "0\n",
      "0\n",
      "0\n",
      "0\n",
      "0\n",
      "0\n"
     ]
    }
   ],
   "source": [
    "def a(i,k=0,d=0):\n",
    "    print (k)\n",
    "    if i==0:\n",
    "        return k\n",
    "    else:\n",
    "        i -= 1\n",
    "        k +=1\n",
    "    return a(i)\n",
    "\n",
    "print(a(4))"
   ]
  },
  {
   "cell_type": "code",
   "execution_count": 1,
   "metadata": {},
   "outputs": [
    {
     "data": {
      "text/plain": [
       "[2, 3]"
      ]
     },
     "execution_count": 1,
     "metadata": {},
     "output_type": "execute_result"
    }
   ],
   "source": [
    "a=[1,2,3]\n",
    "a.remove(1)\n",
    "a"
   ]
  },
  {
   "cell_type": "markdown",
   "metadata": {},
   "source": [
    "### 6.(??)홀수개를 찾아라\n",
    "> 입력으로 list가 한개 들어옵니다. 이 리스트에는 1개으 ㅣ숫자만 홀수개 들어있습니다. 이1개의 홀수개인 숫자를 리턴하는 find_odd를 작성하세요"
   ]
  },
  {
   "cell_type": "code",
   "execution_count": 26,
   "metadata": {},
   "outputs": [
    {
     "name": "stdout",
     "output_type": "stream",
     "text": [
      "3\n"
     ]
    }
   ],
   "source": [
    "def find_odd(a):\n",
    "    a= sorted(a)\n",
    "    for i in range(len(a)):\n",
    "        if i%2:\n",
    "            if a[i] != a[i-1]:\n",
    "                return a[i-1]\n",
    "    else:\n",
    "        return a[-1]\n",
    "            \n",
    "            \n",
    "print(find_odd([1,1,1,1,3,2,2,3,3,4,4,5,5]))"
   ]
  },
  {
   "cell_type": "code",
   "execution_count": 27,
   "metadata": {},
   "outputs": [],
   "source": [
    "def find_dd(numbers):\n",
    "    for i in list((set(numbers))):\n",
    "        if numbers.count(uniq %2):\n",
    "            return i"
   ]
  },
  {
   "cell_type": "code",
   "execution_count": 29,
   "metadata": {},
   "outputs": [
    {
     "name": "stdout",
     "output_type": "stream",
     "text": [
      "3\n"
     ]
    }
   ],
   "source": [
    "# from operator import xor \n",
    "# def find_odd2(numbers):\n",
    "#     return reduce(xor, numbers)\n",
    "#비트 와이즈 연산 \n",
    "def find_d(numbers):\n",
    "    result = 0\n",
    "    for n in numbers:\n",
    "        result = result ^n\n",
    "    return result\n",
    "print(find_d([1,1,1,1,3,2,2,3,3,4,4,5,5]))"
   ]
  },
  {
   "cell_type": "code",
   "execution_count": 37,
   "metadata": {},
   "outputs": [
    {
     "ename": "TypeError",
     "evalue": "unsupported operand type(s) for ^: 'int' and 'float'",
     "output_type": "error",
     "traceback": [
      "\u001b[1;31m---------------------------------------------------------------------------\u001b[0m",
      "\u001b[1;31mTypeError\u001b[0m                                 Traceback (most recent call last)",
      "\u001b[1;32m<ipython-input-37-fb0c10f2ab9e>\u001b[0m in \u001b[0;36m<module>\u001b[1;34m\u001b[0m\n\u001b[0;32m      2\u001b[0m \u001b[0mresult\u001b[0m \u001b[1;33m=\u001b[0m \u001b[0mresult\u001b[0m\u001b[1;33m^\u001b[0m\u001b[1;36m3\u001b[0m\u001b[1;33m\u001b[0m\u001b[1;33m\u001b[0m\u001b[0m\n\u001b[0;32m      3\u001b[0m \u001b[0mresult\u001b[0m \u001b[1;33m=\u001b[0m \u001b[0mresult\u001b[0m\u001b[1;33m^\u001b[0m\u001b[1;36m4\u001b[0m\u001b[1;33m\u001b[0m\u001b[1;33m\u001b[0m\u001b[0m\n\u001b[1;32m----> 4\u001b[1;33m \u001b[0mresult\u001b[0m \u001b[1;33m=\u001b[0m \u001b[0mresult\u001b[0m\u001b[1;33m^\u001b[0m\u001b[1;36m3.0\u001b[0m\u001b[1;33m\u001b[0m\u001b[1;33m\u001b[0m\u001b[0m\n\u001b[0m\u001b[0;32m      5\u001b[0m \u001b[1;33m\u001b[0m\u001b[0m\n\u001b[0;32m      6\u001b[0m \u001b[1;33m\u001b[0m\u001b[0m\n",
      "\u001b[1;31mTypeError\u001b[0m: unsupported operand type(s) for ^: 'int' and 'float'"
     ]
    }
   ],
   "source": [
    "result=0\n",
    "result = result^3\n",
    "result = result^4\n",
    "result = result^3\n",
    "\n",
    "\n",
    "\n",
    "print (result)\n",
    "type(result)"
   ]
  },
  {
   "cell_type": "code",
   "execution_count": 20,
   "metadata": {},
   "outputs": [
    {
     "data": {
      "text/plain": [
       "[1, 1, 2, 2, 3, 3, 3, 4, 4]"
      ]
     },
     "execution_count": 20,
     "metadata": {},
     "output_type": "execute_result"
    }
   ],
   "source": [
    "sorted([1,1,3,2,2,3,3,4,4])"
   ]
  },
  {
   "cell_type": "markdown",
   "metadata": {},
   "source": [
    "**190109"
   ]
  },
  {
   "cell_type": "markdown",
   "metadata": {},
   "source": [
    "### up and down \n",
    ">우리가 1부터 range(1,101) 입력한다. 컴퓨터가 절반에 위치한 숫자를 물어보고, 생각한 수보다 크면 1 작으면 -1 맞으면 0을 입력한다.\n",
    "몇번만에 우리가 몇번만에 맞췄는지 뱉어준다."
   ]
  },
  {
   "cell_type": "code",
   "execution_count": null,
   "metadata": {},
   "outputs": [],
   "source": [
    "def up_down(b=0,k=0,p=101):\n",
    "    t=(k+p)//2\n",
    "    print(t)\n",
    "    i = int(input())\n",
    "    if i == 0:\n",
    "        print ('숫자',k,'횟수',b)\n",
    "    elif i == -1:\n",
    "        p = t\n",
    "        return up_down(b+1,k,p)\n",
    "    else:\n",
    "        k = t\n",
    "        return up_down(b+1,k,p)\n",
    "        \n",
    "up_down()"
   ]
  },
  {
   "cell_type": "code",
   "execution_count": null,
   "metadata": {},
   "outputs": [],
   "source": [
    "def guess_up_down():\n",
    "    count = 0\n",
    "    max_n, min_n =101, 0\n",
    "    print('숫자를 생각하세요..!')\n",
    "    while 1:\n",
    "        guess = (max_n + min_n)//2\n",
    "        print(guess)\n",
    "        count += 1\n",
    "        feedback = int(input('작으면 -1 크면 1 맞으면 0'))\n",
    "        if feedback ==-1:\n",
    "            max_n = guess\n",
    "        elif feedback ==1:\n",
    "            min_n = guess\n",
    "        else:\n",
    "            return count\n",
    "guess_up_down()"
   ]
  },
  {
   "cell_type": "code",
   "execution_count": 19,
   "metadata": {},
   "outputs": [
    {
     "data": {
      "text/plain": [
       "-2.220446049250313e-16"
      ]
     },
     "execution_count": 19,
     "metadata": {},
     "output_type": "execute_result"
    }
   ],
   "source": [
    "def root_2(n, b=0, a=1, count=100):\n",
    "    if b**2 <= n <=a**2:\n",
    "        if count==0:\n",
    "            return b\n",
    "        elif n <= ((a+b)/2)**2:\n",
    "            a=(a+b)/2\n",
    "            return root_2(n,b,a,count-1)\n",
    "        elif n >= ((a+b)/2)**2:\n",
    "            b=(a+b)/2\n",
    "            return root_2(n,b,a,count-1)\n",
    "    else:\n",
    "        b+=1\n",
    "        a+=1\n",
    "        return root_2(n,b,a)\n"
   ]
  }
 ],
 "metadata": {
  "kernelspec": {
   "display_name": "Python 3",
   "language": "python",
   "name": "python3"
  },
  "language_info": {
   "codemirror_mode": {
    "name": "ipython",
    "version": 3
   },
   "file_extension": ".py",
   "mimetype": "text/x-python",
   "name": "python",
   "nbconvert_exporter": "python",
   "pygments_lexer": "ipython3",
   "version": "3.6.7"
  }
 },
 "nbformat": 4,
 "nbformat_minor": 2
}
