{
 "cells": [
  {
   "cell_type": "markdown",
   "metadata": {},
   "source": [
    "# 03_Homework"
   ]
  },
  {
   "cell_type": "markdown",
   "metadata": {},
   "source": [
    "1-1 X\n",
    "1-2 X\n",
    "1-3 O\n",
    "1-4 O"
   ]
  },
  {
   "cell_type": "markdown",
   "metadata": {},
   "source": [
    "2-1 ls 현재 디렉토리에 있는 디렉토리와 파일들을 보여준다. \n",
    "2-2 cd 디렉토리를 변경한다.\n",
    "2-3 mkdir 새로운 디렉토리(폴더)를 만든다.\n",
    "2-4 touch 새로운 파일을 만든다.\n"
   ]
  },
  {
   "cell_type": "markdown",
   "metadata": {},
   "source": [
    "3 디렉토리나 명령어를 자동완성을 해준다. \n",
    " 디렉토리의 경우 현재 존재하는 디렉토리 리스트 중에서 현재 입력한 문자에 가장 가까운 디렉토리를 자동완성 해 준다.\n",
    " 명령어의 경우 마찬가지로 가능한 명령어를 자동완성해준다."
   ]
  },
  {
   "cell_type": "markdown",
   "metadata": {},
   "source": [
    "# 04_Workshop"
   ]
  },
  {
   "cell_type": "code",
   "execution_count": 137,
   "metadata": {
    "scrolled": false
   },
   "outputs": [
    {
     "name": "stdout",
     "output_type": "stream",
     "text": [
      "*****\n",
      "*****\n",
      "*****\n",
      "*****\n",
      "*****\n",
      "*****\n",
      "*****\n",
      "*****\n",
      "*****\n",
      "\n"
     ]
    }
   ],
   "source": [
    "# 반복문을 사용하지 않고 *모양 가로 N 세로 길이 M직사각형 출력 \n",
    "n = 5\n",
    "m = 9\n",
    "line ='*'*n\n",
    "print(f'{line}\\n'*m)\n",
    "\n"
   ]
  },
  {
   "cell_type": "code",
   "execution_count": 132,
   "metadata": {},
   "outputs": [
    {
     "name": "stdout",
     "output_type": "stream",
     "text": [
      "87.75\n",
      "87.75\n"
     ]
    }
   ],
   "source": [
    "#평균\n",
    "student = {'python':80, 'algorithm':99, 'django': 89, 'flask': 83}\n",
    "a = []\n",
    "for key in student:\n",
    "    a.append(student[key])\n",
    "average = sum(a)/len(a)\n",
    "print(average)\n",
    "    \n",
    "k = sum(student.values())/len(student)    \n",
    "print(k)"
   ]
  },
  {
   "cell_type": "code",
   "execution_count": 119,
   "metadata": {},
   "outputs": [
    {
     "name": "stdout",
     "output_type": "stream",
     "text": [
      "3\n",
      "3\n",
      "3\n",
      "3\n"
     ]
    }
   ],
   "source": [
    "# for사용 각 혈핵형 인원 구하기\n",
    "blood_types = ['A', 'B', 'A', 'O', 'AB', 'AB', 'O', 'A', 'B', 'O', 'B', 'AB']\n",
    "A = 0\n",
    "B = 0\n",
    "AB = 0\n",
    "O = 0\n",
    "    \n",
    "for i in blood_types:\n",
    "    if i == 'A':\n",
    "         A += 1\n",
    "    if i == 'B':\n",
    "         B += 1\n",
    "    if i == 'AB':\n",
    "         AB += 1\n",
    "    if i == 'O':\n",
    "         O += 1        \n",
    "\n",
    "print(A)\n",
    "print(B)\n",
    "print(AB)\n",
    "print(O)"
   ]
  },
  {
   "cell_type": "markdown",
   "metadata": {},
   "source": [
    "# 04_Homework"
   ]
  },
  {
   "cell_type": "code",
   "execution_count": 121,
   "metadata": {},
   "outputs": [
    {
     "name": "stdout",
     "output_type": "stream",
     "text": [
      "['False', 'None', 'True', 'and', 'as', 'assert', 'break', 'class', 'continue', 'def', 'del', 'elif', 'else', 'except', 'finally', 'for', 'from', 'global', 'if', 'import', 'in', 'is', 'lambda', 'nonlocal', 'not', 'or', 'pass', 'raise', 'return', 'try', 'while', 'with', 'yield']\n"
     ]
    }
   ],
   "source": [
    "#1번 문제\n",
    "#첫 글자에 숫자가 올 수 없다.\n",
    "\n",
    "#정답\n",
    "import keyword\n",
    "print(keyword.kwlist)"
   ]
  },
  {
   "cell_type": "code",
   "execution_count": 130,
   "metadata": {},
   "outputs": [
    {
     "data": {
      "text/plain": [
       "True"
      ]
     },
     "execution_count": 130,
     "metadata": {},
     "output_type": "execute_result"
    }
   ],
   "source": [
    "#2번문제 \n",
    "\n",
    "# 정답\n",
    "import sys\n",
    "a = 0.1*3\n",
    "b = 0.3\n",
    "a-b\n",
    "abs(a-b)<= sys.float_info.epsilon#인식할수 있는 작은값"
   ]
  },
  {
   "cell_type": "code",
   "execution_count": null,
   "metadata": {},
   "outputs": [],
   "source": [
    "#3번 문제 1.줄바꿈 |2.탭 |3.\\ \n",
    "#정답\n",
    "print('\\n')\n",
    "print('\\t')\n",
    "print('\\\\')"
   ]
  },
  {
   "cell_type": "code",
   "execution_count": 133,
   "metadata": {},
   "outputs": [
    {
     "name": "stdout",
     "output_type": "stream",
     "text": [
      "\"안녕, 철수야\"\n"
     ]
    }
   ],
   "source": [
    "#4번 문제 \n",
    "\n",
    "#정답\n",
    "name = '철수'\n",
    "print(f\"\\\"안녕, {name}야\\\"\")"
   ]
  },
  {
   "cell_type": "code",
   "execution_count": 27,
   "metadata": {},
   "outputs": [
    {
     "data": {
      "text/plain": [
       "True"
      ]
     },
     "execution_count": 27,
     "metadata": {},
     "output_type": "execute_result"
    }
   ],
   "source": [
    "#5번 문제 \n",
    "str(1)\n",
    "int(5)\n",
    "int('30')\n",
    "bool('50')\n",
    "#int('3.0')\n",
    "#정답: int('3.0')\n",
    "\n"
   ]
  },
  {
   "cell_type": "markdown",
   "metadata": {},
   "source": [
    "## 05_Workshop"
   ]
  },
  {
   "cell_type": "code",
   "execution_count": 16,
   "metadata": {},
   "outputs": [
    {
     "name": "stdout",
     "output_type": "stream",
     "text": [
      "단어를 입력하세요:A santa at NASA\n",
      "True\n"
     ]
    }
   ],
   "source": [
    "#따라서, 단어를 입력받아 Palindrome을 검증하고 True나 False를 리턴하는 함수 palindrome(word)를 만들어보세요.\n",
    "#정답\n",
    "\n",
    "word = input('단어를 입력하세요:')\n",
    "\n",
    "def word_palindrome(word):\n",
    "    word = word.lower()\n",
    "    word = word.replace(' ','')\n",
    "    \n",
    "    for j ,i in enumerate(word):\n",
    "        if i != word[-j-1]:\n",
    "            break\n",
    "    else:\n",
    "        return True\n",
    "    return False\n",
    "    \n",
    "\n",
    "print(word_palindrome(word))\n"
   ]
  },
  {
   "cell_type": "markdown",
   "metadata": {},
   "source": [
    "## 05_Homework"
   ]
  },
  {
   "cell_type": "code",
   "execution_count": 10,
   "metadata": {},
   "outputs": [
    {
     "name": "stdout",
     "output_type": "stream",
     "text": [
      "1\n",
      "2\n",
      "3\n",
      "4\n",
      "5\n",
      "6\n",
      "7\n"
     ]
    }
   ],
   "source": [
    "#1List는 for 문을 실행하면 모든 요소를 순차적으로 돌면서 반복문을 수행합니다. \n",
    "#임의의 리스트 my_list의 값을 하나씩 출력하는 코드를 아래에 작성하시오.\n",
    "#정답\n",
    "list_ex = [1,2,3,4,5,6,7]\n",
    "for item in list_ex:\n",
    "    print (item)"
   ]
  },
  {
   "cell_type": "code",
   "execution_count": 12,
   "metadata": {},
   "outputs": [
    {
     "name": "stdout",
     "output_type": "stream",
     "text": [
      "0 1\n",
      "1 2\n",
      "2 3\n",
      "3 4\n",
      "4 5\n",
      "5 6\n",
      "6 7\n"
     ]
    }
   ],
   "source": [
    "#2.위에 작성한 코드를 인덱스(index) 값과 함께 출력하는 코드로 변경하시오.\n",
    "#정답\n",
    "list_ex = [1,2,3,4,5,6,7]\n",
    "for index, item in enumerate(list_ex):\n",
    "    print (index, item)"
   ]
  },
  {
   "cell_type": "code",
   "execution_count": null,
   "metadata": {},
   "outputs": [],
   "source": [
    "# 3.딕셔너리는 key, value로 구성되어 있습니다. 따라서, 딕셔너리 my_dict 각각의 상 황에 따라 반복문을 수행할 수 있도록 빈칸을 채우시오\n",
    "\n",
    "# 정답\n",
    "# >key : for key in _my_dict.keys()_: \n",
    "# >value : for value in _my_dict.values()_: \n",
    "# >key와 value : for key, value in _my_dict.items()_:\n",
    "    "
   ]
  },
  {
   "cell_type": "code",
   "execution_count": 19,
   "metadata": {},
   "outputs": [
    {
     "name": "stdout",
     "output_type": "stream",
     "text": [
      "a\n",
      "b\n",
      "a b\n"
     ]
    }
   ],
   "source": [
    "a={'a':'b'}\n",
    "for i in a.keys():\n",
    "    print(i)\n",
    "for i in a.values():\n",
    "    print(i)\n",
    "for i,j in a.items():\n",
    "    print(i,j)"
   ]
  },
  {
   "cell_type": "code",
   "execution_count": 1,
   "metadata": {},
   "outputs": [
    {
     "name": "stdout",
     "output_type": "stream",
     "text": [
      "6\n"
     ]
    }
   ],
   "source": [
    "#4.result에 저장된 값은? \n",
    "#정답 6이 출력된다.\n",
    "def my_func(a, b): \n",
    "    c = a + b \n",
    "    print(c) \n",
    "\n",
    "result = my_func(1, 5)"
   ]
  },
  {
   "cell_type": "markdown",
   "metadata": {},
   "source": [
    "## 06_Workshop"
   ]
  },
  {
   "cell_type": "code",
   "execution_count": 23,
   "metadata": {},
   "outputs": [
    {
     "data": {
      "text/plain": [
       "31.6386"
      ]
     },
     "execution_count": 23,
     "metadata": {},
     "output_type": "execute_result"
    }
   ],
   "source": [
    "def root_2(n, b=0, a=1, count=100):\n",
    "    if b**2 <= n <=a**2:\n",
    "        if count==0:\n",
    "            return b\n",
    "        elif n <= ((a+b)/2)**2:\n",
    "            return root_2(n,b,(a+b)/2,count-1)\n",
    "        elif n >= ((a+b)/2)**2:\n",
    "            return root_2(n,(a+b)/2,a,count-1)\n",
    "    else:\n",
    "        b+=1\n",
    "        a+=1\n",
    "        return round(root_2(n,b,a),4)\n",
    "root_2(1001)\n"
   ]
  },
  {
   "cell_type": "markdown",
   "metadata": {},
   "source": [
    "## 06_Homework\n"
   ]
  },
  {
   "cell_type": "markdown",
   "metadata": {},
   "source": [
    "1. 우리가 이제까지 활용했던 print는 내장 함수(built-in function)입니다. 배웠던 내장 함수 중 5개만 나열해보세요.\n",
    "\n",
    "2. 다음 중 틀린 것은?\n",
    "(1) 함수는 오직 하나의 객체만 반환할 수 있어서, return a, b 처럼 쓸 수 없다. (2) 함수에서 return을 작성하지 않으면 None 값을 반환한다. (3) 함수의 인자(parameter)는 함수 선언시 설정한 값이며, 인수(argument)는 함수 호출시 넘겨주는 값이다. (4) 가변 인자를 설정할 때는 인자 앞에서 *을 붙이고, 이때는 함수 내에서 tuple로 처리된다. (5) 파이썬 활용되는 ‘스코프(scope)’ 룰에 따르면 변수에서 값을 Local scope -> Global scope -> Built-in scope 순으로 찾는다.\n",
    "\n",
    "3. 함수의 인자 기본 값을 설정을 활용하여 곱셈의 결과를 반환하는 my_mul을 만들어주세요. 예시 호출1) my_mul(6) 예시 결과1) 6 예시 호출2) my_mul(3, 5) 예시 결과2) 15"
   ]
  },
  {
   "cell_type": "code",
   "execution_count": 8,
   "metadata": {},
   "outputs": [
    {
     "data": {
      "text/plain": [
       "15"
      ]
     },
     "execution_count": 8,
     "metadata": {},
     "output_type": "execute_result"
    }
   ],
   "source": [
    "#1번문제\n",
    "# 정답 :\n",
    "# abs(-1)\n",
    "# round(1.222,3)\n",
    "# sorted([1,2,3,4,5])\n",
    "# sum([1,2,3])\n",
    "# type(---)\n",
    "\n",
    "#2번문제\n",
    "#정답 : (5)\n",
    "\n",
    "#3번문제\n",
    "# \n",
    "def my_mul(*a):\n",
    "    b = 1 \n",
    "    for i in a:\n",
    "        b = b*i\n",
    "    return b\n",
    "my_mul(3,5)"
   ]
  },
  {
   "cell_type": "markdown",
   "metadata": {},
   "source": [
    "## 07_Workshop\n",
    ">반지름이 3이고 x,y 좌표가 (2.4)인 원을 만들어 넓이와 둘레를 출력하세요."
   ]
  },
  {
   "cell_type": "code",
   "execution_count": 17,
   "metadata": {},
   "outputs": [],
   "source": [
    "class Circle:\n",
    "    pi = 3.14\n",
    "    x = 0\n",
    "    y = 0\n",
    "    r = 0\n",
    "    \n",
    "    def area(self):\n",
    "        return self.pi * self.r * self.r\n",
    "    def circumference(self):\n",
    "        return 2 * self.pi * self.r\n",
    "    def center(self):\n",
    "        return (self.x, self.y)\n",
    "    def move(self, x, y):\n",
    "        self.x = x\n",
    "        self.y = y\n"
   ]
  },
  {
   "cell_type": "code",
   "execution_count": 18,
   "metadata": {
    "scrolled": true
   },
   "outputs": [
    {
     "name": "stdout",
     "output_type": "stream",
     "text": [
      "좌표\n",
      "(2, 4)\n",
      "넓이\n",
      "28.259999999999998\n",
      "둘레\n",
      "18.84\n"
     ]
    }
   ],
   "source": [
    "\n",
    "gc = Circle()\n",
    "gc.x = 2\n",
    "gc.y = 4\n",
    "gc.r = 3\n",
    "print('좌표')\n",
    "gc.move(gc.x,gc.y)\n",
    "print(gc.center())\n",
    "print('넓이')\n",
    "print(gc.area())\n",
    "print('둘레')\n",
    "print(gc.circumference())\n"
   ]
  },
  {
   "cell_type": "markdown",
   "metadata": {},
   "source": [
    "## 07_Homework"
   ]
  },
  {
   "cell_type": "markdown",
   "metadata": {},
   "source": [
    "###  1. 파이썬에서은 객체지향프로그래밍 언어입니다. 파이썬에서 기본적으로 정의된 클래스 5개만 작성해보세요.\n",
    "\n",
    "> 정답 : list, str, int, tuple, set"
   ]
  },
  {
   "cell_type": "markdown",
   "metadata": {},
   "source": [
    "### 2. 다음 중 틀린 것은?\n",
    "\n",
    "(1) 클래스 내에 정의된 멤버 함수는 ‘메서드(method)’라고 부른다. \n",
    "\n",
    "(2) 클래스는 선언과 동시에 클래스 객체가 생성되며, 인스턴스 객체를 만들면 클래스에서 선언된 메서드를 활용할 수 있다. \n",
    "\n",
    "(3) isinstance(인스턴스 객체, 클래스 객체)를 활용하면 상속 관계까지 확인 가능하다. \n",
    "\n",
    "(4) 생성자는 인스턴트 객체가 생성될 때 자동으로 호출된다. \n",
    "\n",
    "(5) 숫자 5는 그냥 숫자일 뿐 클래스가 없다\n",
    "\n",
    "> 정답 : 5"
   ]
  },
  {
   "cell_type": "markdown",
   "metadata": {},
   "source": [
    "### 3. Person 클래스를 정의하고, 이름이 ‘홍길동’, 나이가 20인 p1 인스턴스 객체를 만들어보세요.\n",
    "\n",
    "### 이름이 ‘둘리’, 나이가 0인 p2 인스턴스 객체를 만들어보세요.\n"
   ]
  },
  {
   "cell_type": "code",
   "execution_count": 25,
   "metadata": {},
   "outputs": [
    {
     "name": "stdout",
     "output_type": "stream",
     "text": [
      "안녕하세요. 홍길동입니다. 20살입니다.\n",
      "안녕하세요. 둘리입니다. 0살입니다.\n",
      "안녕하세요. 마이콜입니다. 0살입니다.\n"
     ]
    }
   ],
   "source": [
    "class Person:\n",
    "    def __init__(self,name,age=0):\n",
    "        self.name = name\n",
    "        self.age = age\n",
    "    def greeting(self):\n",
    "        print(f'안녕하세요. {self.name}입니다. {self.age}살입니다.')\n",
    "\n",
    "p1 = Person('홍길동',20)\n",
    "p2 = Person('둘리',0)\n",
    "p3 = Person('마이콜')\n",
    "p1.greeting()\n",
    "p2.greeting()\n",
    "p3.greeting()"
   ]
  },
  {
   "cell_type": "markdown",
   "metadata": {},
   "source": [
    "## 08_Workshop\n"
   ]
  },
  {
   "cell_type": "code",
   "execution_count": 1,
   "metadata": {},
   "outputs": [
    {
     "ename": "ModuleNotFoundError",
     "evalue": "No module named 'dictionary_ssafy'",
     "output_type": "error",
     "traceback": [
      "\u001b[1;31m---------------------------------------------------------------------------\u001b[0m",
      "\u001b[1;31mModuleNotFoundError\u001b[0m                       Traceback (most recent call last)",
      "\u001b[1;32m<ipython-input-1-0fb1e7fbcfa1>\u001b[0m in \u001b[0;36m<module>\u001b[1;34m\u001b[0m\n\u001b[0;32m      1\u001b[0m \u001b[1;32mimport\u001b[0m \u001b[0mflask\u001b[0m\u001b[1;33m\u001b[0m\u001b[1;33m\u001b[0m\u001b[0m\n\u001b[1;32m----> 2\u001b[1;33m \u001b[1;32mfrom\u001b[0m \u001b[0mdictionary_ssafy\u001b[0m \u001b[1;32mimport\u001b[0m \u001b[0mDiction\u001b[0m\u001b[1;33m\u001b[0m\u001b[1;33m\u001b[0m\u001b[0m\n\u001b[0m\u001b[0;32m      3\u001b[0m \u001b[1;33m\u001b[0m\u001b[0m\n\u001b[0;32m      4\u001b[0m \u001b[1;33m@\u001b[0m\u001b[0mapp\u001b[0m\u001b[1;33m.\u001b[0m\u001b[0mroute\u001b[0m\u001b[1;33m(\u001b[0m\u001b[1;34m'/dictionary/<string:word>'\u001b[0m\u001b[1;33m)\u001b[0m\u001b[1;31m#variable routing\u001b[0m\u001b[1;33m\u001b[0m\u001b[1;33m\u001b[0m\u001b[0m\n\u001b[0;32m      5\u001b[0m \u001b[1;32mdef\u001b[0m \u001b[0mdictionary\u001b[0m\u001b[1;33m(\u001b[0m\u001b[0mword\u001b[0m\u001b[1;33m)\u001b[0m\u001b[1;33m:\u001b[0m\u001b[1;33m\u001b[0m\u001b[1;33m\u001b[0m\u001b[0m\n",
      "\u001b[1;31mModuleNotFoundError\u001b[0m: No module named 'dictionary_ssafy'"
     ]
    }
   ],
   "source": [
    "import flask\n",
    "from dictionary_ssafy import Diction\n",
    "\n",
    "@app.route('/dictionary/<string:word>')#variable routing\n",
    "def dictionary(word):    \n",
    "    a = Diction()\n",
    "    b = a.diction_comment(word)\n",
    "    return b\n",
    "\n",
    "\n",
    "#dictionary_ssafy.py\n",
    "class Diction:\n",
    "    diction = {\n",
    "        'apple' : '사과',\n",
    "        'banana' : '바나나',\n",
    "    }\n",
    "    def diction_comment(self, word):\n",
    "        if word in self.diction.keys():\n",
    "            return f'{word}은(는){self.diction[word]}!'\n",
    "        else:\n",
    "            return f'{word}은(는) 나만의 단어장에 없는단어입니다.'"
   ]
  },
  {
   "cell_type": "markdown",
   "metadata": {},
   "source": [
    "## 08_Homework\n",
    "\n",
    "1. Web에서의 커뮤니케이션 방식은 ____(a)____과(와) ____(b)____(으)로 이루어져 있다. 브라우저의 주소창에 주 소를 입력하는 것으로 ____(a)____을(를) 보내며, 그에 대한 ____(b)____(으)로 HTML, XML, JSON 등의 문서 를 보내준다. 각각 (a)와 (b)에 들어갈 말을 작성하시오.\n",
    "\n",
    "> 정답 : a:요청 b:응답\n",
    "\n",
    "2. Flaks Web Framework는 Python에 내장되어 있는 모듈이 아니므로 별도의 설치가 필요하다. Flask를 설치 하기 위하여 bash에서 어떤 명령어를 입력해야 하는지 작성하시오.\n",
    "\n",
    "> 정답 :pip instll Flask\n",
    "\n",
    "3. 다음은 가장 기본적인 구조의 Flask 코드이다. (a)에 들어갈 코드를 작성하고, 이 코드가 의미하는 것을 설명 하시오.\n",
    "\n",
    "> 정답 : from flask import Flask 뜻: flask파일에서 Flask class를 가져온다. 그래야만 app을 인스턴스화 할수있다.\n",
    "\n",
    "4. 3번 문제에 작성된 Flask 코드가 app.py라는 이름으로 저장되어 있으며 bash의 현재 위치는 app.py가 있는 곳과 동일하다. 이 때, Flask 서버를 실행하기 위하여 어떤 명령어를 입력해야 하는지 작성하시오.\n",
    "\n",
    "> 정답 : flask run이라고 한다."
   ]
  },
  {
   "cell_type": "markdown",
   "metadata": {},
   "source": [
    "## 09_Workshop\n",
    "\n",
    "1. 클릭하면 https://www.ssafy.com/ 로 이동하는 버튼을 만드시오.\n",
    ">정답 <a href=\"https://www.ssafy.com/\">버튼</a>\n",
    "\n",
    "2. 다음 태그에서 잘못된 부분을 찾으시오. <img src=\"www.google.com\" alt=\"GOOGLE\">\n",
    ">정답 img는 그림을 삽입해주는 태그인데 www.google.com은 그림파일이 있는 url주소가 아니다.\n",
    "\n",
    "3. 당신은 현재 Resume.html 에서 작업중이다. “내 사진” 이라는 링크를 누르면 Image 폴더 안에 my_photo를띄워주는 a 태그 경로를 넣으시오\n",
    ">정답 \n",
    "<a href=\"../../Image/my_photo.png\" target = \"_blank\">\n",
    "<p>내 사진</p>\n",
    "</a>\n",
    "\n"
   ]
  },
  {
   "cell_type": "markdown",
   "metadata": {},
   "source": [
    "## 09_Homework\n",
    "1. HTML 은무엇의 약자인가? [    ] \n",
    "\n",
    "    (1) Hyperlinks and Text Markup Language \n",
    "\n",
    "    (2) HomeTool Markup Language \n",
    "\n",
    "    (3) HyperText Markup Language \n",
    "\n",
    "    (4) HyperTool Markup Language\n",
    "\n",
    ">정답 (3) HyperText Markup Language\n",
    "\n",
    "\n",
    "2. 다음중맞으면 T, 틀리면 F 를기입 하시오.\n",
    "\n",
    ">정답\n",
    "\n",
    "    웹표준을 만드는 곳은 Mozilla 재단이다. [  X  ]\n",
    "\n",
    "    표(table) 을만들 때에는 반드시 <th> 태그를 사용해야 한다. [  X  ]\n",
    "    \n",
    "    제목(Heading) 태그는 제목 이외에는 사용하지 않는 것이 좋다. [  O  ]\n",
    "    \n",
    "    인용문을 가리키는 태그는 <blockquote> 이다. [  O  ]\n",
    "    \n",
    "3. 보기중콘텐츠의 의미를 명확히 하기 위해 HTML5 에서 새롭게 추가된 시맨틱(semantic) 태그를 모두 선택 하시오.\n",
    "[ article, div, footer, nav, head, container ]\n",
    "\n",
    ">정답  article footer nav\n",
    "\n",
    "4. 아래이미지와 같은 로그인 화면을 생성하는 html 코드를 작성하시오.\n",
    "\n",
    ">정답 \n",
    "<p>ID :</p> <input type=\"text\" name=\"my_name\" size=\"20\">\n",
    "<br>\n",
    "<p>PWD :</p> <input type=\"password\" name=\"my_password\" size=\"20\">\n",
    "<input type=\"button\" value=\"로그인\">\n"
   ]
  },
  {
   "cell_type": "markdown",
   "metadata": {},
   "source": [
    "## 10_Workshop\n",
    "1. Selector 를 활용한 DOM 탐색 실습.\n",
    "\n",
    "생각하는 대로 선택되지 않을 것이다. 그렇다면 nth-of-type 를 사용해 보자"
   ]
  },
  {
   "cell_type": "markdown",
   "metadata": {},
   "source": [
    "## 10_Homework\n",
    "\n",
    "1. CSS은 무엇의 약자인가?[]\n",
    "\n",
    ">정답 (2) Cascading style sheets\n",
    "\n",
    "2. 맞으면 T 틀리면 F\n",
    ">정답 1. T 2. T 3. T\n",
    "\n",
    "3. 크기 단위 em은 요소에 지정된 상속된 사이즈나 기본 사이즈에대해 상대적인 사이즈를 설정한다. 즉 상속의 영향으로 사이즈가 의도치 않게 변경될 수 있는데 이를 예방하기 위해 HTML 최상위 요소의 사이즈를 기준으로 삼는 크기 단위는 무엇인가?\n",
    "\n",
    "> 정답: em 단위는 상위 요소 크기의 몇 배인지로 크기를 정한다. 이를 예방하기위해 rem단위를 쓸수 있다. rem 단위는 문서의 최상위 요소, 즉 html 요소의 크기의 몇 배인지로 크기를 정한다.\n",
    "\n",
    "\n",
    "4. 다음 예제를 통해 후 \"후손 셀렉터\"와 \"자식 셀렉터\"의 차이를 설명하시오.\n",
    "\n",
    "> 정답 : 태그를 기준으로 바로 한 단계 아래에 위치한 태그를 자식이라고 부르고, 태그 아래에 위치한 모든 태그를 후손이라고 한다. 따라서 후손이 자식보다 포괄적이다.\n"
   ]
  },
  {
   "cell_type": "code",
   "execution_count": null,
   "metadata": {},
   "outputs": [],
   "source": []
  }
 ],
 "metadata": {
  "kernelspec": {
   "display_name": "Python 3",
   "language": "python",
   "name": "python3"
  },
  "language_info": {
   "codemirror_mode": {
    "name": "ipython",
    "version": 3
   },
   "file_extension": ".py",
   "mimetype": "text/x-python",
   "name": "python",
   "nbconvert_exporter": "python",
   "pygments_lexer": "ipython3",
   "version": "3.6.7"
  }
 },
 "nbformat": 4,
 "nbformat_minor": 2
}
