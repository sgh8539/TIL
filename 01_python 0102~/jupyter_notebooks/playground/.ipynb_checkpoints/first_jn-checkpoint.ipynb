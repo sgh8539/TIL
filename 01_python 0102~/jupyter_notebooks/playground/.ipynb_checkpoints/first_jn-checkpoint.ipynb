{
 "cells": [
  {
   "cell_type": "code",
   "execution_count": 11,
   "metadata": {},
   "outputs": [],
   "source": [
    "num1 = 42\n",
    "num2 = 15\n",
    "while num2 == 0:\n",
    "    left = num1 % num2\n",
    "    num1 = num2\n",
    "    num2 = left\n",
    "    temp = num2\n",
    "\n",
    "\n"
   ]
  }
 ],
 "metadata": {
  "kernelspec": {
   "display_name": "Python 3",
   "language": "python",
   "name": "python3"
  },
  "language_info": {
   "codemirror_mode": {
    "name": "ipython",
    "version": 3
   },
   "file_extension": ".py",
   "mimetype": "text/x-python",
   "name": "python",
   "nbconvert_exporter": "python",
   "pygments_lexer": "ipython3",
   "version": "3.6.7"
  }
 },
 "nbformat": 4,
 "nbformat_minor": 2
}
